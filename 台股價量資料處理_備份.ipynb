{
 "cells": [
  {
   "cell_type": "markdown",
   "metadata": {},
   "source": [
    "# 安裝模組"
   ]
  },
  {
   "cell_type": "code",
   "execution_count": 1,
   "metadata": {},
   "outputs": [],
   "source": [
    "#https://aronhack.com/zh/retrieve-stock-historical-data-with-python-and-yahoo-finance-api/\n",
    "#https://blog.techbridge.cc/2020/09/21/python-pandas-zen-tutorial/\n",
    "import requests\n",
    "import numpy as np\n",
    "import yfinance as yf\n",
    "import pandas as pd\n",
    "import time\n",
    "import urllib.request as request\n",
    "import json"
   ]
  },
  {
   "cell_type": "markdown",
   "metadata": {},
   "source": [
    "# 事前準備"
   ]
  },
  {
   "cell_type": "code",
   "execution_count": 2,
   "metadata": {},
   "outputs": [
    {
     "data": {
      "text/plain": [
       "966"
      ]
     },
     "execution_count": 2,
     "metadata": {},
     "output_type": "execute_result"
    }
   ],
   "source": [
    "# 準備台股代碼\n",
    "web='https://quality.data.gov.tw/dq_download_json.php?nid=18419&md5_url=04541d53fd5cbeb2803e0fe4becc4b97'\n",
    "with request.urlopen(web) as response:\n",
    "    data=json.load(response)\n",
    "\n",
    "stock_list=[]\n",
    "for item in data:\n",
    "    stock_list.append(item['公司代號'])\n",
    "    \n",
    "\n",
    "len(stock_list)"
   ]
  },
  {
   "cell_type": "markdown",
   "metadata": {},
   "source": [
    "# 爬蟲"
   ]
  },
  {
   "cell_type": "code",
   "execution_count": 3,
   "metadata": {},
   "outputs": [],
   "source": [
    "# 開始爬蟲\n",
    "historical_data = pd.DataFrame()\n",
    "for i in stock_list:    \n",
    "    \n",
    "    # 抓取股票資料\n",
    "    stock_id = i + '.TW'\n",
    "    data = yf.Ticker(stock_id)\n",
    "    df = data.history(period=\"max\")\n",
    "\n",
    "    # 在表格中增加股票代號\n",
    "    df['STOCK_ID'] = i\n",
    "    \n",
    "    # 將資料格式化\n",
    "    stock = pd.DataFrame(df)\n",
    "\n",
    "    # 將df與一開始的空表格合併成一張完整表格\n",
    "    historical_data = pd.concat([historical_data, stock])\n",
    "    \n",
    "    # 記得爬蟲禮儀\n",
    "    time.sleep(0.8)\n"
   ]
  },
  {
   "cell_type": "markdown",
   "metadata": {},
   "source": [
    "# 爬蟲資料"
   ]
  },
  {
   "cell_type": "code",
   "execution_count": 4,
   "metadata": {},
   "outputs": [
    {
     "data": {
      "text/html": [
       "<div>\n",
       "<style scoped>\n",
       "    .dataframe tbody tr th:only-of-type {\n",
       "        vertical-align: middle;\n",
       "    }\n",
       "\n",
       "    .dataframe tbody tr th {\n",
       "        vertical-align: top;\n",
       "    }\n",
       "\n",
       "    .dataframe thead th {\n",
       "        text-align: right;\n",
       "    }\n",
       "</style>\n",
       "<table border=\"1\" class=\"dataframe\">\n",
       "  <thead>\n",
       "    <tr style=\"text-align: right;\">\n",
       "      <th></th>\n",
       "      <th>Open</th>\n",
       "      <th>High</th>\n",
       "      <th>Low</th>\n",
       "      <th>Close</th>\n",
       "      <th>Volume</th>\n",
       "      <th>Dividends</th>\n",
       "      <th>Stock Splits</th>\n",
       "      <th>STOCK_ID</th>\n",
       "    </tr>\n",
       "    <tr>\n",
       "      <th>Date</th>\n",
       "      <th></th>\n",
       "      <th></th>\n",
       "      <th></th>\n",
       "      <th></th>\n",
       "      <th></th>\n",
       "      <th></th>\n",
       "      <th></th>\n",
       "      <th></th>\n",
       "    </tr>\n",
       "  </thead>\n",
       "  <tbody>\n",
       "    <tr>\n",
       "      <th>2000-01-04</th>\n",
       "      <td>7.234595</td>\n",
       "      <td>7.405829</td>\n",
       "      <td>7.234595</td>\n",
       "      <td>7.405829</td>\n",
       "      <td>1.020285e+11</td>\n",
       "      <td>0.0</td>\n",
       "      <td>0.0</td>\n",
       "      <td>1101</td>\n",
       "    </tr>\n",
       "    <tr>\n",
       "      <th>2000-01-05</th>\n",
       "      <td>7.255998</td>\n",
       "      <td>7.791100</td>\n",
       "      <td>7.255998</td>\n",
       "      <td>7.598464</td>\n",
       "      <td>1.574242e+08</td>\n",
       "      <td>0.0</td>\n",
       "      <td>0.0</td>\n",
       "      <td>1101</td>\n",
       "    </tr>\n",
       "    <tr>\n",
       "      <th>2000-01-06</th>\n",
       "      <td>7.534253</td>\n",
       "      <td>7.619870</td>\n",
       "      <td>7.213189</td>\n",
       "      <td>7.277404</td>\n",
       "      <td>7.820596e+07</td>\n",
       "      <td>0.0</td>\n",
       "      <td>0.0</td>\n",
       "      <td>1101</td>\n",
       "    </tr>\n",
       "    <tr>\n",
       "      <th>2000-01-07</th>\n",
       "      <td>6.977745</td>\n",
       "      <td>7.298806</td>\n",
       "      <td>6.849320</td>\n",
       "      <td>7.255999</td>\n",
       "      <td>9.198085e+07</td>\n",
       "      <td>0.0</td>\n",
       "      <td>0.0</td>\n",
       "      <td>1101</td>\n",
       "    </tr>\n",
       "    <tr>\n",
       "      <th>2000-01-10</th>\n",
       "      <td>7.277404</td>\n",
       "      <td>7.534252</td>\n",
       "      <td>7.170382</td>\n",
       "      <td>7.491445</td>\n",
       "      <td>8.265599e+07</td>\n",
       "      <td>0.0</td>\n",
       "      <td>0.0</td>\n",
       "      <td>1101</td>\n",
       "    </tr>\n",
       "    <tr>\n",
       "      <th>...</th>\n",
       "      <td>...</td>\n",
       "      <td>...</td>\n",
       "      <td>...</td>\n",
       "      <td>...</td>\n",
       "      <td>...</td>\n",
       "      <td>...</td>\n",
       "      <td>...</td>\n",
       "      <td>...</td>\n",
       "    </tr>\n",
       "    <tr>\n",
       "      <th>2021-07-01</th>\n",
       "      <td>135.500000</td>\n",
       "      <td>135.500000</td>\n",
       "      <td>128.500000</td>\n",
       "      <td>129.500000</td>\n",
       "      <td>7.502609e+06</td>\n",
       "      <td>0.0</td>\n",
       "      <td>0.0</td>\n",
       "      <td>9958</td>\n",
       "    </tr>\n",
       "    <tr>\n",
       "      <th>2021-07-02</th>\n",
       "      <td>131.000000</td>\n",
       "      <td>134.000000</td>\n",
       "      <td>129.000000</td>\n",
       "      <td>133.500000</td>\n",
       "      <td>4.521003e+06</td>\n",
       "      <td>0.0</td>\n",
       "      <td>0.0</td>\n",
       "      <td>9958</td>\n",
       "    </tr>\n",
       "    <tr>\n",
       "      <th>2021-07-05</th>\n",
       "      <td>135.500000</td>\n",
       "      <td>140.000000</td>\n",
       "      <td>133.500000</td>\n",
       "      <td>136.000000</td>\n",
       "      <td>9.884870e+06</td>\n",
       "      <td>0.0</td>\n",
       "      <td>0.0</td>\n",
       "      <td>9958</td>\n",
       "    </tr>\n",
       "    <tr>\n",
       "      <th>2021-07-06</th>\n",
       "      <td>136.000000</td>\n",
       "      <td>136.500000</td>\n",
       "      <td>132.500000</td>\n",
       "      <td>134.000000</td>\n",
       "      <td>4.734411e+06</td>\n",
       "      <td>0.0</td>\n",
       "      <td>0.0</td>\n",
       "      <td>9958</td>\n",
       "    </tr>\n",
       "    <tr>\n",
       "      <th>2021-07-07</th>\n",
       "      <td>135.000000</td>\n",
       "      <td>135.000000</td>\n",
       "      <td>130.500000</td>\n",
       "      <td>130.500000</td>\n",
       "      <td>3.818524e+06</td>\n",
       "      <td>0.0</td>\n",
       "      <td>0.0</td>\n",
       "      <td>9958</td>\n",
       "    </tr>\n",
       "  </tbody>\n",
       "</table>\n",
       "<p>3946580 rows × 8 columns</p>\n",
       "</div>"
      ],
      "text/plain": [
       "                  Open        High         Low       Close        Volume  \\\n",
       "Date                                                                       \n",
       "2000-01-04    7.234595    7.405829    7.234595    7.405829  1.020285e+11   \n",
       "2000-01-05    7.255998    7.791100    7.255998    7.598464  1.574242e+08   \n",
       "2000-01-06    7.534253    7.619870    7.213189    7.277404  7.820596e+07   \n",
       "2000-01-07    6.977745    7.298806    6.849320    7.255999  9.198085e+07   \n",
       "2000-01-10    7.277404    7.534252    7.170382    7.491445  8.265599e+07   \n",
       "...                ...         ...         ...         ...           ...   \n",
       "2021-07-01  135.500000  135.500000  128.500000  129.500000  7.502609e+06   \n",
       "2021-07-02  131.000000  134.000000  129.000000  133.500000  4.521003e+06   \n",
       "2021-07-05  135.500000  140.000000  133.500000  136.000000  9.884870e+06   \n",
       "2021-07-06  136.000000  136.500000  132.500000  134.000000  4.734411e+06   \n",
       "2021-07-07  135.000000  135.000000  130.500000  130.500000  3.818524e+06   \n",
       "\n",
       "            Dividends  Stock Splits STOCK_ID  \n",
       "Date                                          \n",
       "2000-01-04        0.0           0.0     1101  \n",
       "2000-01-05        0.0           0.0     1101  \n",
       "2000-01-06        0.0           0.0     1101  \n",
       "2000-01-07        0.0           0.0     1101  \n",
       "2000-01-10        0.0           0.0     1101  \n",
       "...               ...           ...      ...  \n",
       "2021-07-01        0.0           0.0     9958  \n",
       "2021-07-02        0.0           0.0     9958  \n",
       "2021-07-05        0.0           0.0     9958  \n",
       "2021-07-06        0.0           0.0     9958  \n",
       "2021-07-07        0.0           0.0     9958  \n",
       "\n",
       "[3946580 rows x 8 columns]"
      ]
     },
     "execution_count": 4,
     "metadata": {},
     "output_type": "execute_result"
    }
   ],
   "source": [
    "# 不分公司之台股表格\n",
    "\n",
    "historical_data"
   ]
  },
  {
   "cell_type": "markdown",
   "metadata": {},
   "source": [
    "# 繪圖"
   ]
  },
  {
   "cell_type": "code",
   "execution_count": 5,
   "metadata": {},
   "outputs": [
    {
     "data": {
      "image/png": "[encoded data removed]",
      "text/plain": [
       "<Figure size 800x575 with 2 Axes>"
      ]
     },
     "metadata": {},
     "output_type": "display_data"
    }
   ],
   "source": [
    "#挑選股票與時段\n",
    "def pick(stock_number, period_start, period_end):\n",
    "    global historical_data\n",
    "    a = historical_data['STOCK_ID'] == stock_number\n",
    "    a = historical_data[a].loc[period_start : period_end]\n",
    "    return a\n",
    "\n",
    "# 用函式定義標的\n",
    "s2603=pick('2603', '2000-01-01', '2021-07-05')\n",
    "\n",
    "#繪圖套件\n",
    "import mplfinance as mpf\n",
    "mpf.plot(s2603,type='line')"
   ]
  },
  {
   "cell_type": "code",
   "execution_count": null,
   "metadata": {},
   "outputs": [],
   "source": []
  },
  {
   "cell_type": "code",
   "execution_count": null,
   "metadata": {},
   "outputs": [],
   "source": []
  }
 ],
 "metadata": {
  "kernelspec": {
   "display_name": "Python 3",
   "language": "python",
   "name": "python3"
  },
  "language_info": {
   "codemirror_mode": {
    "name": "ipython",
    "version": 3
   },
   "file_extension": ".py",
   "mimetype": "text/x-python",
   "name": "python",
   "nbconvert_exporter": "python",
   "pygments_lexer": "ipython3",
   "version": "3.8.3"
  }
 },
 "nbformat": 4,
 "nbformat_minor": 4
}
