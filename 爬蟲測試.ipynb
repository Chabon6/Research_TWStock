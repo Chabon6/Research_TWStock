{
 "cells": [
  {
   "cell_type": "code",
   "execution_count": 67,
   "metadata": {},
   "outputs": [],
   "source": [
    "import urllib.request as req\n",
    "url = 'https://wwwfund.capital.com.tw/w/wp/wp07.djhtm?a=BFZICA'\n",
    "request = req.Request(url, headers = {'User-Agent':'User-Agent: Mozilla/5.0 (Windows NT 10.0; Win64; x64) AppleWebKit/537.36 (KHTML, like Gecko) Chrome/91.0.4472.124 Safari/537.36'})\n",
    "\n",
    "with req.urlopen(request) as response:\n",
    "    data = response.read().decode('big5')"
   ]
  },
  {
   "cell_type": "code",
   "execution_count": 71,
   "metadata": {},
   "outputs": [],
   "source": [
    "from bs4 import BeautifulSoup\n",
    "\n",
    "soup = BeautifulSoup(data, 'lxml')"
   ]
  },
  {
   "cell_type": "code",
   "execution_count": 74,
   "metadata": {},
   "outputs": [
    {
     "data": {
      "text/plain": [
       "[<tr id=\"oScrollHead\"><td class=\"wfb1c\" colspan=\"11\">\n",
       " <select name=\"selCID\" onchange=\"selopn(this.options[this.selectedIndex].value)\">\n",
       " <option>ＸＸＸＸＸＸＸＸＸＸＸ</option>\n",
       " <option>ＸＸＸＸＸＸＸＸＸＸＸ</option>\n",
       " <option>ＸＸＸＸＸＸＸＸＸＸＸ</option>\n",
       " <option>ＸＸＸＸＸＸＸＸＸＸＸ</option>\n",
       " <option>ＸＸＸＸＸＸＸＸＸＸＸ</option>\n",
       " <option>ＸＸＸＸＸＸＸＸＸＸＸ</option>\n",
       " <option>ＸＸＸＸＸＸＸＸＸＸＸ</option>\n",
       " <option>ＸＸＸＸＸＸＸＸＸＸＸ</option>\n",
       " <option>ＸＸＸＸＸＸＸＸＸＸＸ</option>\n",
       " <option>ＸＸＸＸＸＸＸＸＸＸＸ</option>\n",
       " </select>\n",
       " <select name=\"IDS\" onchange=\"javascript:selopn(this.options[this.selectedIndex].value);\">\n",
       " <option value=\"/w/wp/wp01.djhtm?a=BFZICA\">基本資料</option>\n",
       " <option value=\"/w/wp/wp02.djhtm?a=BFZICA\">旗下基金淨值</option>\n",
       " <option selected=\"\" value=\"/w/wp/wp07.djhtm?a=BFZICA\">旗下基金績效</option>\n",
       " <option value=\"/w/wp/wp03.djhtm?a=BFZICA\">經營團隊</option>\n",
       " <option value=\"/w/wp/wp04.djhtm?a=BFZICA\">股東背景</option>\n",
       " <option value=\"/w/wp/wp05.djhtm?a=BFZICA\">相關新聞</option>\n",
       " <option value=\"/w/wp/wp08.djhtm?a=BFZICA\">基金相關文件</option>\n",
       " </select>\n",
       " </td></tr>]"
      ]
     },
     "execution_count": 74,
     "metadata": {},
     "output_type": "execute_result"
    }
   ],
   "source": [
    "a=soup.find_all('tr',id='oScrollHead')\n",
    "a"
   ]
  },
  {
   "cell_type": "code",
   "execution_count": 77,
   "metadata": {},
   "outputs": [
    {
     "data": {
      "text/plain": [
       "[<select name=\"selCID\" onchange=\"selopn(this.options[this.selectedIndex].value)\">\n",
       " <option>ＸＸＸＸＸＸＸＸＸＸＸ</option>\n",
       " <option>ＸＸＸＸＸＸＸＸＸＸＸ</option>\n",
       " <option>ＸＸＸＸＸＸＸＸＸＸＸ</option>\n",
       " <option>ＸＸＸＸＸＸＸＸＸＸＸ</option>\n",
       " <option>ＸＸＸＸＸＸＸＸＸＸＸ</option>\n",
       " <option>ＸＸＸＸＸＸＸＸＸＸＸ</option>\n",
       " <option>ＸＸＸＸＸＸＸＸＸＸＸ</option>\n",
       " <option>ＸＸＸＸＸＸＸＸＸＸＸ</option>\n",
       " <option>ＸＸＸＸＸＸＸＸＸＸＸ</option>\n",
       " <option>ＸＸＸＸＸＸＸＸＸＸＸ</option>\n",
       " </select>]"
      ]
     },
     "execution_count": 77,
     "metadata": {},
     "output_type": "execute_result"
    }
   ],
   "source": [
    "a=soup.find_all('select',onchange=\"selopn(this.options[this.selectedIndex].value)\" )\n",
    "a"
   ]
  },
  {
   "cell_type": "code",
   "execution_count": null,
   "metadata": {},
   "outputs": [],
   "source": []
  },
  {
   "cell_type": "code",
   "execution_count": null,
   "metadata": {},
   "outputs": [],
   "source": [
    "info_items = soup.find_all('div', 'release_info')\n",
    " \n",
    "for item in info_items:\n",
    "    name = item.find('div', 'release_movie_name').a.text.strip()\n",
    "    english_name = item.find('div', 'en').a.text.strip()\n",
    "    release_time = item.find('div', 'release_movie_time').text.split('：')[-1].strip()\n",
    "    level = item.find('div', 'leveltext').span.text.strip()\n",
    "     \n",
    "    print('{}({}) 上映日：{} 期待度：{}'.format(name, english_name, release_time, level))\n"
   ]
  },
  {
   "cell_type": "code",
   "execution_count": null,
   "metadata": {},
   "outputs": [],
   "source": []
  }
 ],
 "metadata": {
  "kernelspec": {
   "display_name": "Python 3",
   "language": "python",
   "name": "python3"
  },
  "language_info": {
   "codemirror_mode": {
    "name": "ipython",
    "version": 3
   },
   "file_extension": ".py",
   "mimetype": "text/x-python",
   "name": "python",
   "nbconvert_exporter": "python",
   "pygments_lexer": "ipython3",
   "version": "3.8.3"
  }
 },
 "nbformat": 4,
 "nbformat_minor": 4
}
